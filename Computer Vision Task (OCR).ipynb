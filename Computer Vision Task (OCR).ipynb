{
 "cells": [
  {
   "cell_type": "code",
   "execution_count": 1,
   "metadata": {},
   "outputs": [],
   "source": [
    "#IMPORT REQUIRED MODULES\n",
    "import cv2\n",
    "import pytesseract\n",
    "import re\n",
    "#location of tesseract executable file\n",
    "pytesseract.pytesseract.tesseract_cmd = r\"C:\\Program Files\\Tesseract-OCR\\tesseract.exe\""
   ]
  },
  {
   "cell_type": "code",
   "execution_count": 2,
   "metadata": {},
   "outputs": [],
   "source": [
    "#for rotating the image\n",
    "def rotate(image, center = None, scale = 1.0):\n",
    "    angle=360-int(re.search('(?<=Rotate: )\\d+', pytesseract.image_to_osd(image)).group(0))\n",
    "    (h, w) = image.shape[:2]\n",
    "\n",
    "    if center is None:\n",
    "        center = (w / 2, h / 2)\n",
    "\n",
    "    # Perform the rotation\n",
    "    M = cv2.getRotationMatrix2D(center, angle, scale)\n",
    "    rotated = cv2.warpAffine(image, M, (w, h))\n",
    "\n",
    "    return rotated"
   ]
  },
  {
   "cell_type": "code",
   "execution_count": 3,
   "metadata": {},
   "outputs": [],
   "source": [
    "#reading the image\n",
    "path = r'C:\\Users\\LENOVO\\Desktop\\OCR\\3657993.jpg'\n",
    "image = cv2.imread(path)"
   ]
  },
  {
   "cell_type": "code",
   "execution_count": 4,
   "metadata": {},
   "outputs": [],
   "source": [
    "img = rotate(image)"
   ]
  },
  {
   "cell_type": "code",
   "execution_count": 5,
   "metadata": {},
   "outputs": [],
   "source": [
    "#grayscaling\n",
    "gray = cv2.cvtColor(img, cv2.COLOR_BGR2GRAY)\n",
    "#extracting every text from image using pytesseract\n",
    "out = pytesseract.image_to_string(gray)\n",
    "out = out.split()\n",
    "#print(out)"
   ]
  },
  {
   "cell_type": "code",
   "execution_count": 6,
   "metadata": {},
   "outputs": [],
   "source": [
    "#list to store output\n",
    "output = []"
   ]
  },
  {
   "cell_type": "code",
   "execution_count": 7,
   "metadata": {},
   "outputs": [],
   "source": [
    "#using regex module to find PAN-NUMBER from out and storing in output\n",
    "for i in range(len(out)):\n",
    "    x = re.search(\"[A-Za-z]{5}\\d{4}[A-Za-z]{1}\",out[i])\n",
    "    if(x):\n",
    "        output.append(out[i])"
   ]
  },
  {
   "cell_type": "code",
   "execution_count": 8,
   "metadata": {},
   "outputs": [],
   "source": [
    "#using regex module to find DOB from out and storing in output\n",
    "for i in range(len(out)):\n",
    "    x = re.search(\"(0[1-9]|[12][0-9]|3[01])[- /.](0[1-9]|1[012])[- /.](19|20)\\d\\d$\",out[i])\n",
    "    if(x):\n",
    "        output.append(out[i])"
   ]
  },
  {
   "cell_type": "code",
   "execution_count": 9,
   "metadata": {},
   "outputs": [
    {
     "name": "stdout",
     "output_type": "stream",
     "text": [
      "PAN CARD NUMBER :  BGYPJ0129A\n",
      "DATE OF BIRTH :  18/03/1996\n"
     ]
    }
   ],
   "source": [
    "#printing required details\n",
    "print(\"PAN CARD NUMBER : \", output[0])\n",
    "print(\"DATE OF BIRTH : \", output[1])"
   ]
  },
  {
   "cell_type": "code",
   "execution_count": null,
   "metadata": {},
   "outputs": [],
   "source": []
  },
  {
   "cell_type": "code",
   "execution_count": null,
   "metadata": {},
   "outputs": [],
   "source": []
  }
 ],
 "metadata": {
  "kernelspec": {
   "display_name": "Python 3",
   "language": "python",
   "name": "python3"
  },
  "language_info": {
   "codemirror_mode": {
    "name": "ipython",
    "version": 3
   },
   "file_extension": ".py",
   "mimetype": "text/x-python",
   "name": "python",
   "nbconvert_exporter": "python",
   "pygments_lexer": "ipython3",
   "version": "3.8.5"
  }
 },
 "nbformat": 4,
 "nbformat_minor": 4
}
